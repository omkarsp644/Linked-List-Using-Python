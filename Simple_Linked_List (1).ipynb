{
 "cells": [
  {
   "cell_type": "code",
   "execution_count": 63,
   "metadata": {},
   "outputs": [
    {
     "name": "stdout",
     "output_type": "stream",
     "text": [
      "Enter The No Of Record :3\n",
      "ABC\n",
      "DEF\n",
      "GHI\n"
     ]
    }
   ],
   "source": [
    "# Following Is Example Of Single Linked List \n",
    "# i.e. Linked List Is Chain Of Nodes\n",
    "\n",
    "class node:\n",
    "    def __init__(self,value):\n",
    "        self.value=value       # takes the any Value as input\n",
    "        self.nextval=None      # used To Store The Object Of Next Node\n",
    "    \n",
    "    \n",
    "    \n",
    "    \n",
    "class simple_linked_list:      # Main Class\n",
    "    \n",
    "    def __init__(self):        # Empty Constructor\n",
    "        self.head=None\n",
    "    \n",
    "    def showAll(self):         #Function TO display All The Values From Linked List\n",
    "        printval = self.head\n",
    "        while printval is not None: #Traversal Happens Upto NextNode Is None\n",
    "            print (printval.value)\n",
    "            printval = printval.nextval\n",
    "            \n",
    "    def insert_node_to_start(self,node): #function Inserts The Node At The Start of Linked List\n",
    "        node.nextval=self.head\n",
    "        self.head=node\n",
    "    \n",
    "    \n",
    "    def insert_element_at_last(self,node): #function Inserts The Node At Ending Of Linked List\n",
    "        no=self.head\n",
    "        while no.nextval is not None:\n",
    "            no=no.nextval\n",
    "        no.nextval=node\n",
    "        \n",
    "    def insert_After_index(self,index,node): # function Inserts The Value At Particular Position or index\n",
    "        no=self.head\n",
    "        while no.nextval is not None:\n",
    "            if index==1:\n",
    "                node.nextval=no.nextval\n",
    "                no.nextval=node\n",
    "                print(\"Successfully....Inserted\")\n",
    "                return\n",
    "            else:\n",
    "                index=index-1\n",
    "                no=no.nextval\n",
    "        print(\"Index Is Out Of Range\")\n",
    "        \n",
    "    def removeNode(self,index=0):       #  index =0 By Default Removes The Node From The Starting Of Linked List\n",
    "        if self.head.nextval is None and index==0:\n",
    "            print(\"Linked List Head Is Removed...\")\n",
    "            self.head.value=None\n",
    "            return\n",
    "        else:\n",
    "            if index==0:\n",
    "                self.head=self.head.nextval\n",
    "                print(\"Index {} is Removed From List\".format(index))\n",
    "                return\n",
    "            else:\n",
    "                he=self.head\n",
    "                while he.nextval is not None:\n",
    "                    if index==1:\n",
    "                        he.nextval=he.nextval.nextval\n",
    "                        print(\"Index {} is Removed From List\".format(index))\n",
    "                        return\n",
    "                    else:\n",
    "                        index=index-1\n",
    "                        \n",
    "# Initializing The Linked List                        \n",
    "start=simple_linked_list()\n",
    "\n",
    "\n",
    "for i in range(int(input(\"Enter The No Of Record :\"))):\n",
    "    if i==0:\n",
    "        start.head=node(input())\n",
    "        current=start.head\n",
    "    elif i==1:\n",
    "        current.nextval=node(input())\n",
    "        current=current.nextval\n",
    "    else:\n",
    "        current.nextval=node(input())\n",
    "        current=current.nextval"
   ]
  },
  {
   "cell_type": "code",
   "execution_count": 64,
   "metadata": {},
   "outputs": [
    {
     "name": "stdout",
     "output_type": "stream",
     "text": [
      "ABC\n",
      "DEF\n",
      "GHI\n"
     ]
    }
   ],
   "source": [
    "start.showAll()  #Displays All The node Records From List"
   ]
  },
  {
   "cell_type": "code",
   "execution_count": 65,
   "metadata": {},
   "outputs": [],
   "source": [
    "start.insert_element_at_last(node(\"APPLE\")) #inserts node Apple At Last Of List"
   ]
  },
  {
   "cell_type": "code",
   "execution_count": 66,
   "metadata": {},
   "outputs": [
    {
     "name": "stdout",
     "output_type": "stream",
     "text": [
      "ABC\n",
      "DEF\n",
      "GHI\n",
      "APPLE\n"
     ]
    }
   ],
   "source": [
    "start.showAll()"
   ]
  },
  {
   "cell_type": "code",
   "execution_count": 67,
   "metadata": {},
   "outputs": [
    {
     "name": "stdout",
     "output_type": "stream",
     "text": [
      "Successfully....Inserted\n"
     ]
    }
   ],
   "source": [
    "start.insert_After_index(2,node(\"BANANA\")) #inserts Node After Index 2"
   ]
  },
  {
   "cell_type": "code",
   "execution_count": 68,
   "metadata": {},
   "outputs": [
    {
     "name": "stdout",
     "output_type": "stream",
     "text": [
      "ABC\n",
      "DEF\n",
      "BANANA\n",
      "GHI\n",
      "APPLE\n"
     ]
    }
   ],
   "source": [
    "start.showAll()"
   ]
  },
  {
   "cell_type": "code",
   "execution_count": 71,
   "metadata": {},
   "outputs": [
    {
     "name": "stdout",
     "output_type": "stream",
     "text": [
      "Index 1 is Removed From List\n"
     ]
    }
   ],
   "source": [
    "start.removeNode(1) # Removes NOde At Index 1"
   ]
  },
  {
   "cell_type": "code",
   "execution_count": 72,
   "metadata": {},
   "outputs": [
    {
     "name": "stdout",
     "output_type": "stream",
     "text": [
      "ABC\n",
      "GHI\n",
      "APPLE\n"
     ]
    }
   ],
   "source": [
    "start.showAll()"
   ]
  },
  {
   "cell_type": "code",
   "execution_count": 54,
   "metadata": {},
   "outputs": [
    {
     "name": "stdout",
     "output_type": "stream",
     "text": [
      "Index 0 is Removed From List\n"
     ]
    }
   ],
   "source": [
    "start.removeNode() # as Remove Node Function Has Default Index Value As 0 so It Removes The Head Node"
   ]
  },
  {
   "cell_type": "code",
   "execution_count": 75,
   "metadata": {},
   "outputs": [
    {
     "name": "stdout",
     "output_type": "stream",
     "text": [
      "FRUITS\n",
      "ABC\n",
      "GHI\n",
      "APPLE\n"
     ]
    }
   ],
   "source": [
    "start.showAll()"
   ]
  },
  {
   "cell_type": "code",
   "execution_count": 73,
   "metadata": {},
   "outputs": [],
   "source": [
    "start.insert_node_to_start(node(\"FRUITS\")) #inserts Node At The Starting "
   ]
  },
  {
   "cell_type": "code",
   "execution_count": 74,
   "metadata": {},
   "outputs": [
    {
     "name": "stdout",
     "output_type": "stream",
     "text": [
      "FRUITS\n",
      "ABC\n",
      "GHI\n",
      "APPLE\n"
     ]
    }
   ],
   "source": [
    "start.showAll()"
   ]
  },
  {
   "cell_type": "code",
   "execution_count": null,
   "metadata": {},
   "outputs": [],
   "source": []
  }
 ],
 "metadata": {
  "kernelspec": {
   "display_name": "Python 3",
   "language": "python",
   "name": "python3"
  },
  "language_info": {
   "codemirror_mode": {
    "name": "ipython",
    "version": 3
   },
   "file_extension": ".py",
   "mimetype": "text/x-python",
   "name": "python",
   "nbconvert_exporter": "python",
   "pygments_lexer": "ipython3",
   "version": "3.7.4"
  }
 },
 "nbformat": 4,
 "nbformat_minor": 2
}
